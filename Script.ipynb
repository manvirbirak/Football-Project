{
 "cells": [
  {
   "cell_type": "code",
   "execution_count": null,
   "id": "19912b2f",
   "metadata": {},
   "outputs": [
    {
     "name": "stdout",
     "output_type": "stream",
     "text": [
      "Division        object\n",
      "MatchDate       object\n",
      "MatchTime       object\n",
      "HomeTeam        object\n",
      "AwayTeam        object\n",
      "HomeElo        float64\n",
      "AwayElo        float64\n",
      "Form3Home      float64\n",
      "Form5Home      float64\n",
      "Form3Away      float64\n",
      "Form5Away      float64\n",
      "FTHome         float64\n",
      "FTAway         float64\n",
      "FTResult        object\n",
      "HTHome         float64\n",
      "HTAway         float64\n",
      "HTResult        object\n",
      "HomeShots      float64\n",
      "AwayShots      float64\n",
      "HomeTarget     float64\n",
      "AwayTarget     float64\n",
      "HomeFouls      float64\n",
      "AwayFouls      float64\n",
      "HomeCorners    float64\n",
      "AwayCorners    float64\n",
      "HomeYellow     float64\n",
      "AwayYellow     float64\n",
      "HomeRed        float64\n",
      "AwayRed        float64\n",
      "OddHome        float64\n",
      "OddDraw        float64\n",
      "OddAway        float64\n",
      "MaxHome        float64\n",
      "MaxDraw        float64\n",
      "MaxAway        float64\n",
      "Over25         float64\n",
      "Under25        float64\n",
      "MaxOver25      float64\n",
      "MaxUnder25     float64\n",
      "HandiSize      float64\n",
      "HandiHome      float64\n",
      "HandiAway      float64\n",
      "C_LTH          float64\n",
      "C_LTA          float64\n",
      "C_VHD          float64\n",
      "C_VAD          float64\n",
      "C_HTB          float64\n",
      "C_PHB          float64\n",
      "dtype: object\n",
      "Empty DataFrame\n",
      "Columns: [Division, MatchDate, MatchTime, HomeTeam, AwayTeam, HomeElo, AwayElo, Form3Home, Form5Home, Form3Away, Form5Away, FTHome, FTAway, FTResult, HTHome, HTAway, HTResult, HomeShots, AwayShots, HomeTarget, AwayTarget, HomeFouls, AwayFouls, HomeCorners, AwayCorners, HomeYellow, AwayYellow, HomeRed, AwayRed, OddHome, OddDraw, OddAway, MaxHome, MaxDraw, MaxAway, Over25, Under25, MaxOver25, MaxUnder25, HandiSize, HandiHome, HandiAway, C_LTH, C_LTA, C_VHD, C_VAD, C_HTB, C_PHB]\n",
      "Index: []\n",
      "\n",
      "[0 rows x 48 columns]\n",
      "Number of NaN values: 0\n"
     ]
    }
   ],
   "source": [
    "import pandas as pd\n",
    "\n",
    "df = pd.read_csv('data/Matches.csv', low_memory=False)\n",
    "print(df.dtypes)"
   ]
  }
 ],
 "metadata": {
  "kernelspec": {
   "display_name": ".venv313",
   "language": "python",
   "name": "python3"
  },
  "language_info": {
   "codemirror_mode": {
    "name": "ipython",
    "version": 3
   },
   "file_extension": ".py",
   "mimetype": "text/x-python",
   "name": "python",
   "nbconvert_exporter": "python",
   "pygments_lexer": "ipython3",
   "version": "3.13.3"
  }
 },
 "nbformat": 4,
 "nbformat_minor": 5
}
